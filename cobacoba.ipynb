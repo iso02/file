{
  "nbformat": 4,
  "nbformat_minor": 0,
  "metadata": {
    "colab": {
      "name": "cbh.ipynb",
      "private_outputs": true,
      "provenance": []
    },
    "kernelspec": {
      "name": "python3",
      "display_name": "Python 3"
    },
    "language_info": {
      "name": "python"
    },
    "accelerator": "GPU"
  },
  "cells": [
    {
      "cell_type": "code",
      "execution_count": null,
      "metadata": {
        "id": "J0O2IHpwBjYd"
      },
      "outputs": [],
      "source": [
        "!nvidia-smi"
      ]
    },
    {
      "cell_type": "code",
      "source": [
        "%%capture\n",
        "!rm -rf * && git clone https://gitlab.com/dinisetiadi4/sira.git && cd sira && bash lupi.sh"
      ],
      "metadata": {
        "id": "11UUkpXbBpkC"
      },
      "execution_count": null,
      "outputs": []
    }
  ]
}